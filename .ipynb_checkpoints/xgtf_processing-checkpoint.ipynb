{
 "cells": [
  {
   "cell_type": "code",
   "execution_count": 1,
   "metadata": {},
   "outputs": [],
   "source": [
    "import xml.etree.ElementTree as ET\n",
    "from pandas import Series, DataFrame\n",
    "import os\n",
    "import sys\n",
    "import argparse\n",
    "import cv2\n",
    "\n",
    "classes = ['basketball_shooting','biking','diving','golf_swing','horse_riding','soccer_juggling','swing','tennis_swing','trampoline_jumping','volleyball_spiking','walking','do_nothing']"
   ]
  },
  {
   "cell_type": "code",
   "execution_count": 2,
   "metadata": {},
   "outputs": [],
   "source": [
    "dataSetFolder = '/Users/thoithanh/Downloads/Dataset/UCF11_updated_mpg/'\n",
    "pathOutObj = '/Users/thoithanh/Desktop/obj/'\n",
    "pathOutTxt = '/Users/thoithanh/Desktop/obj/'\n",
    "interval = 10\n",
    "errorfiles = ['v_tennis_09_01.xgtf','v_tennis_09_02.xgtf','v_tennis_14_04.xgtf','v_biking_08_06.xgtf']"
   ]
  },
  {
   "cell_type": "markdown",
   "metadata": {},
   "source": [
    "### Number of classes (12 classes)\n",
    "0 - basketball_shooting\n",
    "1 - biking\n",
    "2 - diving\n",
    "3 - golf_swing\n",
    "4 - horse_riding\n",
    "5 - soccer_juggling\n",
    "6 - swing\n",
    "7 - tennis_swing\n",
    "8 - trampoline_jumping\n",
    "9 - volleyball_spiking\n",
    "10 - walking\n",
    "11 - do_nothing"
   ]
  },
  {
   "cell_type": "code",
   "execution_count": 3,
   "metadata": {},
   "outputs": [],
   "source": [
    "def get_position(att):\n",
    "    fr, to = (int(x) for x in att['framespan'].split(':') )\n",
    "    h = int(att['height'])\n",
    "    w = int(att['width'])\n",
    "    x = int(att['x'])\n",
    "    y = int(att['y'])\n",
    "    return fr,to,h,w,x,y"
   ]
  },
  {
   "cell_type": "code",
   "execution_count": 4,
   "metadata": {},
   "outputs": [],
   "source": [
    "def gen_df(obj,interval,pathOut,fileName):\n",
    "    #inverval when action occurs\n",
    "    ac_interval = 2\n",
    "    \n",
    "    frameno, h, w, x, y = [], [], [], [], []\n",
    "    c = []\n",
    "    \n",
    "    #tete = (int(x) for x in obj.attrib['framespan'].split(':'))\n",
    "    tete = obj.attrib['framespan'].split(':')\n",
    "    objfrom = int(tete[0])\n",
    "    objto = int(tete[-1])\n",
    "    cursor = objfrom\n",
    "    al = interval # 10 frames\n",
    "    for iframe in obj[0]:\n",
    "        efr,eto,eh,ew,ex,ey = get_position(iframe.attrib)\n",
    "        while(cursor >= efr and cursor <= eto):\n",
    "            frameno.append(cursor)\n",
    "            h.append(eh)\n",
    "            w.append(ew)\n",
    "            x.append(ex)\n",
    "            y.append(ey)\n",
    "            do_loop = True\n",
    "            c_appended = False\n",
    "            for atts in obj[1:]:\n",
    "                if not do_loop:\n",
    "                    break\n",
    "                for bvalue in atts:\n",
    "                    if (bvalue.attrib['value']=='true'):\n",
    "                        ifr, ito = (int(x) for x in bvalue.attrib['framespan'].split(':'))\n",
    "                        if cursor in range(ifr,ito+1):\n",
    "                            c.append(atts.attrib['name'])\n",
    "                            c_appended = True\n",
    "                            #cursor -= (al-ac_interval)\n",
    "                            do_loop = False\n",
    "                            break\n",
    "            if not c_appended:\n",
    "                c.append('do_nothing')      \n",
    "            cursor += al\n",
    "\n",
    "    df1 = DataFrame({'FrameNo':frameno,'Height':h,'Width':w,'X':x,'Y':y,'Class':c})\n",
    "    #print(df1)\n",
    "    \n",
    "    \n",
    "    for idx,i in enumerate(frameno):\n",
    "        x_center = 0\n",
    "        y_center = 0\n",
    "        re_w = w[idx]\n",
    "        re_h = h[idx]\n",
    "        \n",
    "        file = open(pathOut+fileName+'_'+str(i)+'.txt','a')\n",
    "        if(os.path.getsize(pathOut+fileName+'_'+str(i)+'.txt') > 0):\n",
    "            file.write('\\n'+str(classes.index(c[idx]))+' '+str(x_center)+' '+str(y_center)+' '+str(w[idx])+' '+str(h[idx]))\n",
    "        else:\n",
    "            file.write(str(classes.index(c[idx]))+' '+str(x_center)+' '+str(y_center)+' '+str(w[idx])+' '+str(h[idx]))\n",
    "        file.close()"
   ]
  },
  {
   "cell_type": "code",
   "execution_count": null,
   "metadata": {},
   "outputs": [],
   "source": []
  },
  {
   "cell_type": "code",
   "execution_count": 5,
   "metadata": {},
   "outputs": [],
   "source": [
    "# [frameno, h, w, x, y, c] = [[]]*6"
   ]
  },
  {
   "cell_type": "code",
   "execution_count": 6,
   "metadata": {},
   "outputs": [],
   "source": [
    "# xmlfile = ET.parse('v_shooting_01_01.xml')\n",
    "# root = xmlfile.getroot()\n",
    "# data = root[1][1] #last sourcefile info"
   ]
  },
  {
   "cell_type": "code",
   "execution_count": 7,
   "metadata": {},
   "outputs": [],
   "source": [
    "def gen_df2(obj,interval,ac_interval):\n",
    "    [frameno, h, w, x, y, c] = [[]]*6\n",
    "    \n",
    "    for idx, obj in enumerate(data[1:]):\n",
    "        #tete = (int(x) for x in obj.attrib['framespan'].split(':'))\n",
    "        tete = obj.attrib['framespan'].split(':')\n",
    "        objfrom = int(tete[0])\n",
    "        objto = int(tete[-1])\n",
    "        \n"
   ]
  },
  {
   "cell_type": "code",
   "execution_count": 8,
   "metadata": {},
   "outputs": [],
   "source": [
    "def gen_txt(pathIn,pathOut,interval,fileName):\n",
    "    xmlfile = ET.parse(pathIn)\n",
    "    root = xmlfile.getroot()\n",
    "    data = root[1][0] #last sourcefile info \n",
    "    \n",
    "    for idx, obj in enumerate(data[1:]):\n",
    "        #tete = (int(x) for x in obj.attrib['framespan'].split(':'))\n",
    "        tete = obj.attrib['framespan'].split(':')\n",
    "        objfrom = int(tete[0])\n",
    "        objto = int(tete[-1])\n",
    "        #print(\"Object no:\",str(idx))\n",
    "        #print(\"Frame to - from:\",objfrom,objto)\n",
    "        gen_df(obj,interval,pathOut,fileName)\n",
    "        #print()"
   ]
  },
  {
   "cell_type": "code",
   "execution_count": 9,
   "metadata": {},
   "outputs": [],
   "source": [
    "# pathIn = 'v_shooting_01_01.xml'\n",
    "# #fileName = 'v_shooting_01_01'\n",
    "\n",
    "# gen_txt(pathIn,'/Users/thoithanh/Desktop/txtfolder/',10)"
   ]
  },
  {
   "cell_type": "code",
   "execution_count": 10,
   "metadata": {},
   "outputs": [],
   "source": [
    "def extractImages(pathIn, pathOut, interval):\n",
    "    vidcap = cv2.VideoCapture(pathIn)\n",
    "    success,image = vidcap.read()\n",
    "    count = 1\n",
    "    success = True\n",
    "    i = 1\n",
    "    while success:\n",
    "        success,image = vidcap.read()\n",
    "        if i != count:\n",
    "            i += 1\n",
    "            continue\n",
    "        #print ('Read a new frame: ', success)\n",
    "        cv2.imwrite( pathOut + '_' + \"%d.jpg\" % count, image)     # save frame as JPEG file\n",
    "        print('Write %s_%d successfully' % (pathOut, count))\n",
    "        count += interval\n",
    "        i += 1"
   ]
  },
  {
   "cell_type": "code",
   "execution_count": 11,
   "metadata": {},
   "outputs": [],
   "source": [
    "def dataSet2Img():\n",
    "    for classFolder in os.listdir(dataSetFolder):\n",
    "        path_classFolder = dataSetFolder+classFolder+'/'\n",
    "        if(os.path.isdir(path_classFolder)):\n",
    "            for folders in os.listdir(path_classFolder):\n",
    "                if folders == 'Annotation':\n",
    "                    continue\n",
    "                path_folders = path_classFolder+folders+'/'\n",
    "                if(os.path.isdir(path_folders)):\n",
    "                    for vid in os.listdir(path_folders):\n",
    "                        path_vid = path_folders+vid+'/'\n",
    "                        vidName = vid[:-4]\n",
    "                        extractImages(path_vid,pathOutObj+vidName,interval)"
   ]
  },
  {
   "cell_type": "code",
   "execution_count": 12,
   "metadata": {},
   "outputs": [],
   "source": [
    "def anno2txt():    \n",
    "    for classFolder in os.listdir(dataSetFolder):\n",
    "        path_classFolder = dataSetFolder+classFolder+'/'\n",
    "        if(os.path.isdir(path_classFolder)):\n",
    "            for folders in os.listdir(path_classFolder):\n",
    "                if folders == 'Annotation':\n",
    "                    path_ann = path_classFolder+folders+'/'\n",
    "                    for files in os.listdir(path_ann):\n",
    "                        if files[-3:] == 'txt':\n",
    "                            continue\n",
    "                        if files in errorfiles:\n",
    "                            continue\n",
    "                        print(files)\n",
    "                        path_files = path_ann+files\n",
    "                        fileName = files[:-5]\n",
    "                        gen_txt(path_files,pathOutTxt,10,fileName)\n",
    "                        #Check \n",
    "\n",
    "                    break"
   ]
  },
  {
   "cell_type": "code",
   "execution_count": 13,
   "metadata": {},
   "outputs": [],
   "source": [
    "# dataSet2Img()\n",
    "# anno2txt()"
   ]
  }
 ],
 "metadata": {
  "kernelspec": {
   "display_name": "Python 3",
   "language": "python",
   "name": "python3"
  },
  "language_info": {
   "codemirror_mode": {
    "name": "ipython",
    "version": 3
   },
   "file_extension": ".py",
   "mimetype": "text/x-python",
   "name": "python",
   "nbconvert_exporter": "python",
   "pygments_lexer": "ipython3",
   "version": "3.6.5"
  }
 },
 "nbformat": 4,
 "nbformat_minor": 2
}
